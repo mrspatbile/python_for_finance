{
  "nbformat": 4,
  "nbformat_minor": 0,
  "metadata": {
    "colab": {
      "provenance": [],
      "authorship_tag": "ABX9TyPLt7ufpi28OESuY5Yxut2o",
      "include_colab_link": true
    },
    "kernelspec": {
      "name": "python3",
      "display_name": "Python 3"
    },
    "language_info": {
      "name": "python"
    }
  },
  "cells": [
    {
      "cell_type": "markdown",
      "metadata": {
        "id": "view-in-github",
        "colab_type": "text"
      },
      "source": [
        "<a href=\"https://colab.research.google.com/github/mrspatbile/python_for_finance/blob/main/PFF00_1_performance.ipynb\" target=\"_parent\"><img src=\"https://colab.research.google.com/assets/colab-badge.svg\" alt=\"Open In Colab\"/></a>"
      ]
    },
    {
      "cell_type": "markdown",
      "source": [
        "<font size=6>Performance\n",
        "\n",
        "Python is said not to be high performance:\n",
        "* interpreted language\n",
        "* dynamically typed\n",
        "\n",
        "Strategies to make python performant:\n",
        "* idioms / paradigms: data structure, vectorization vs. loops, right packages (ex. pandas)\n",
        "* compiling: packages that offer compiled version of fucntions\n",
        "  - cyton\n",
        "  - numba\n",
        "* parallelization\n"
      ],
      "metadata": {
        "id": "KlC_6CsXBxSz"
      }
    },
    {
      "cell_type": "markdown",
      "source": [
        "## Loop using list comp"
      ],
      "metadata": {
        "id": "eMSFSidZD29M"
      }
    },
    {
      "cell_type": "code",
      "execution_count": 1,
      "metadata": {
        "id": "TwovjR_IpRv0"
      },
      "outputs": [],
      "source": [
        "import math\n",
        "loops = 2500000\n",
        "a = range(1, loops)\n",
        "def f(x):\n",
        "    return 3 * math.log(x) + math.cos(x) ** 2"
      ]
    },
    {
      "cell_type": "code",
      "source": [
        "%%timeit\n",
        "r = [f(x) for x in a]"
      ],
      "metadata": {
        "colab": {
          "base_uri": "https://localhost:8080/"
        },
        "id": "BNWT0LXyDOKU",
        "outputId": "56839ddc-75ba-4c7c-bba6-f313e117237b"
      },
      "execution_count": 5,
      "outputs": [
        {
          "output_type": "stream",
          "name": "stdout",
          "text": [
            "1.67 s ± 376 ms per loop (mean ± std. dev. of 7 runs, 1 loop each)\n"
          ]
        }
      ]
    },
    {
      "cell_type": "markdown",
      "source": [
        "## Vectorized solution"
      ],
      "metadata": {
        "id": "94eF4cPkD9Tq"
      }
    },
    {
      "cell_type": "code",
      "source": [
        "import numpy as np\n",
        "a = np.arange(1, loops)"
      ],
      "metadata": {
        "id": "3XuV-C-DDPuK"
      },
      "execution_count": 7,
      "outputs": []
    },
    {
      "cell_type": "code",
      "source": [
        "%%timeit\n",
        "r = 3 * np.log(a) + np.cos(a) ** 2"
      ],
      "metadata": {
        "colab": {
          "base_uri": "https://localhost:8080/"
        },
        "id": "ZZSiM5ZVDdSI",
        "outputId": "0295ea29-509c-4e22-8ce0-862b80a3ecf8"
      },
      "execution_count": 8,
      "outputs": [
        {
          "output_type": "stream",
          "name": "stdout",
          "text": [
            "79.1 ms ± 619 µs per loop (mean ± std. dev. of 7 runs, 10 loops each)\n"
          ]
        }
      ]
    },
    {
      "cell_type": "markdown",
      "source": [
        "## Boosted vectorized, using **numexp**\n",
        "The package **numexp** (for “numerical expressions”), compiles the expression to improve upon the performance of the general NumPy."
      ],
      "metadata": {
        "id": "l6AMlcj3ENgT"
      }
    },
    {
      "cell_type": "code",
      "source": [
        "import numexpr as ne\n",
        "ne.set_num_threads(1)\n",
        "f = '3 * log(a) + cos(a) ** 2'"
      ],
      "metadata": {
        "id": "G2QqBvZ0DeQL"
      },
      "execution_count": 9,
      "outputs": []
    },
    {
      "cell_type": "code",
      "source": [
        "%%timeit\n",
        "r = ne.evaluate(f)"
      ],
      "metadata": {
        "colab": {
          "base_uri": "https://localhost:8080/"
        },
        "id": "mEy_zexkEYr3",
        "outputId": "262df025-0501-45bd-8f0c-aa8912102488"
      },
      "execution_count": 10,
      "outputs": [
        {
          "output_type": "stream",
          "name": "stdout",
          "text": [
            "85.1 ms ± 20.3 ms per loop (mean ± std. dev. of 7 runs, 10 loops each)\n"
          ]
        }
      ]
    },
    {
      "cell_type": "markdown",
      "source": [
        "## Multithread numexp"
      ],
      "metadata": {
        "id": "QO1NWAB5FQoR"
      }
    },
    {
      "cell_type": "code",
      "source": [
        "import multiprocessing\n",
        "multiprocessing.cpu_count()"
      ],
      "metadata": {
        "colab": {
          "base_uri": "https://localhost:8080/"
        },
        "id": "wmZdpZiHEymp",
        "outputId": "70c0948f-1792-4129-f8c6-d8068ad2979b"
      },
      "execution_count": 11,
      "outputs": [
        {
          "output_type": "execute_result",
          "data": {
            "text/plain": [
              "2"
            ]
          },
          "metadata": {},
          "execution_count": 11
        }
      ]
    },
    {
      "cell_type": "code",
      "source": [
        "ne.set_num_threads(2)"
      ],
      "metadata": {
        "colab": {
          "base_uri": "https://localhost:8080/"
        },
        "id": "93_nShSNFMR1",
        "outputId": "799c44b7-9962-4583-b868-ffe3050f376d"
      },
      "execution_count": 12,
      "outputs": [
        {
          "output_type": "execute_result",
          "data": {
            "text/plain": [
              "1"
            ]
          },
          "metadata": {},
          "execution_count": 12
        }
      ]
    },
    {
      "cell_type": "code",
      "source": [
        "%%timeit\n",
        "r = ne.evaluate(f)"
      ],
      "metadata": {
        "colab": {
          "base_uri": "https://localhost:8080/"
        },
        "id": "L0T_XzUxFcC1",
        "outputId": "aba23f91-952d-486e-e1c7-f67f91de9b09"
      },
      "execution_count": 13,
      "outputs": [
        {
          "output_type": "stream",
          "name": "stdout",
          "text": [
            "60.4 ms ± 823 µs per loop (mean ± std. dev. of 7 runs, 10 loops each)\n"
          ]
        }
      ]
    },
    {
      "cell_type": "markdown",
      "source": [
        "## takeaway\n",
        "The capabilities are accessible from a **high level** even by non-experts. However, one has to **be aware** of which capabilities and options exist."
      ],
      "metadata": {
        "id": "99dJEAJ0G3u7"
      }
    },
    {
      "cell_type": "code",
      "source": [],
      "metadata": {
        "id": "Pw5agdqgFdTV"
      },
      "execution_count": null,
      "outputs": []
    }
  ]
}